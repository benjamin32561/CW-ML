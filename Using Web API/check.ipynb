{
 "cells": [
  {
   "cell_type": "code",
   "execution_count": 1,
   "metadata": {},
   "outputs": [],
   "source": [
    "import numpy as np\n",
    "import json\n",
    "import requests\n",
    "import WebServiceClasses as wc"
   ]
  },
  {
   "cell_type": "code",
   "execution_count": 5,
   "metadata": {},
   "outputs": [],
   "source": [
    "x = np.random.rand(5,677,3) #batch,677,3\n",
    "recordings = []\n",
    "for recording in x:\n",
    "    rec = wc.Recording(0,0,recording.tolist())\n",
    "    recordings.append(rec.__dict__)\n",
    "req = wc.Request(recordings,'0',0.9)\n",
    "json_data = json.dumps(req.__dict__)"
   ]
  },
  {
   "cell_type": "code",
   "execution_count": 8,
   "metadata": {},
   "outputs": [
    {
     "name": "stdout",
     "output_type": "stream",
     "text": [
      "<Response [200]>\n",
      "\n",
      "success\n",
      "{\"recordings_output\":[{\"unit_id\":\"00000000-0000-0000-0000-000000000000\",\"recording_id\":\"00000000-0000-0000-0000-000000000000\",\"model_output\":[[1.0]],\"recording_class\":\"1\"},{\"unit_id\":\"00000000-0000-0000-0000-000000000000\",\"recording_id\":\"00000000-0000-0000-0000-000000000000\",\"model_output\":[[1.0]],\"recording_class\":\"1\"},{\"unit_id\":\"00000000-0000-0000-0000-000000000000\",\"recording_id\":\"00000000-0000-0000-0000-000000000000\",\"model_output\":[[1.0]],\"recording_class\":\"1\"},{\"unit_id\":\"00000000-0000-0000-0000-000000000000\",\"recording_id\":\"00000000-0000-0000-0000-000000000000\",\"model_output\":[[1.0]],\"recording_class\":\"1\"},{\"unit_id\":\"00000000-0000-0000-0000-000000000000\",\"recording_id\":\"00000000-0000-0000-0000-000000000000\",\"model_output\":[[1.0]],\"recording_class\":\"1\"}],\"status\":\"ok\",\"error_msg\":\"\"}\n"
     ]
    }
   ],
   "source": [
    "# Set the request URL and headers\n",
    "url = 'http://127.0.0.1:8080/api/ml'\n",
    "headers = {'Content-Type': 'application/json'}\n",
    "\n",
    "# Send the request and store the response\n",
    "response = requests.post(url, headers=headers, data=json_data)\n",
    "\n",
    "# Check the status code of the response\n",
    "if response.status_code == 200:\n",
    "    # Parse the response body as JSON\n",
    "    response_data = response.json()\n",
    "    print('success')\n",
    "    print(response_data)\n",
    "else:\n",
    "    print(response.status_code)\n",
    "    print(response)\n"
   ]
  }
 ],
 "metadata": {
  "kernelspec": {
   "display_name": "Python 3",
   "language": "python",
   "name": "python3"
  },
  "language_info": {
   "codemirror_mode": {
    "name": "ipython",
    "version": 3
   },
   "file_extension": ".py",
   "mimetype": "text/x-python",
   "name": "python",
   "nbconvert_exporter": "python",
   "pygments_lexer": "ipython3",
   "version": "3.8.10"
  },
  "orig_nbformat": 4,
  "vscode": {
   "interpreter": {
    "hash": "7dac217b36b31e0009f5a4cd7642172bea26f3d46fec2031bdcc95400234d29f"
   }
  }
 },
 "nbformat": 4,
 "nbformat_minor": 2
}
