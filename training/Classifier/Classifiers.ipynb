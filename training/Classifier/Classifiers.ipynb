{
 "cells": [
  {
   "cell_type": "code",
   "execution_count": 2,
   "metadata": {},
   "outputs": [],
   "source": [
    "import sys\n",
    "import os\n",
    "sys.path.append(os.path.abspath('../../'))\n",
    "import torch\n",
    "import pandas as pd\n",
    "import numpy as np\n",
    "import wandb\n",
    "import matplotlib.pyplot as plt\n",
    "from torch.optim import Adam, SGD\n",
    "from torch.utils.data import Dataset, DataLoader\n",
    "from random import randint\n",
    "from data_analysis.functions import GetCSVData, PlotRecordData"
   ]
  },
  {
   "cell_type": "code",
   "execution_count": 3,
   "metadata": {},
   "outputs": [],
   "source": [
    "DEVICE = torch.device(\"cuda:0\" if torch.cuda.is_available() else \"cpu\")"
   ]
  },
  {
   "cell_type": "code",
   "execution_count": 4,
   "metadata": {},
   "outputs": [],
   "source": [
    "TRAIN_TXT_PATH = \"../train_csv_locations.txt\"\n",
    "TEST_TXT_PATH = \"../test_csv_locations.txt\"\n",
    "TIME_COL = \"Time (sec)\"\n",
    "\n",
    "WANDB_PROJECT_NAME = \"Classifier\"\n",
    "MODELS_PATH = \"Classifiers\"\n",
    "\n",
    "EPOCHS = 1000"
   ]
  },
  {
   "cell_type": "code",
   "execution_count": 5,
   "metadata": {},
   "outputs": [],
   "source": [
    "if not os.path.exists(MODELS_PATH):\n",
    "    os.makedirs(MODELS_PATH)"
   ]
  },
  {
   "cell_type": "code",
   "execution_count": 32,
   "metadata": {},
   "outputs": [],
   "source": [
    "class ClassifierAcceleratorDataset(Dataset):\n",
    "    def __init__(self, csv_files):\n",
    "        \"\"\"\n",
    "        Args:\n",
    "            csv_file (string): Paths to .txt which contains all recordings paths.\n",
    "        \"\"\"\n",
    "        self.files = open(csv_files,'r').read().split('\\n')\n",
    "        self.n_files = len(self.files)\n",
    "\n",
    "    def __len__(self):\n",
    "        return self.n_files\n",
    "\n",
    "    def __getitem__(self, idx, as_df=False):\n",
    "        path, record_class = self.files[idx].split('\\t')\n",
    "        class_to_ret = np.array([float(record_class)])\n",
    "        df = GetCSVData(path)\n",
    "        if as_df:\n",
    "            return df,class_to_ret\n",
    "        return df.to_numpy()[:,:-1],class_to_ret\n"
   ]
  },
  {
   "cell_type": "code",
   "execution_count": 34,
   "metadata": {},
   "outputs": [],
   "source": [
    "class LinearClassifier(torch.nn.Module):\n",
    "\tdef __init__(self):\n",
    "\t\tsuper().__init__()\n",
    "\t\t\n",
    "\t\tself.seq = torch.nn.Sequential(\n",
    "\t\t\ttorch.nn.Linear(677*3, 1024),\n",
    "\t\t\ttorch.nn.ReLU(),\n",
    "\t\t\ttorch.nn.Linear(1024, 512),\n",
    "\t\t\ttorch.nn.ReLU(),\n",
    "\t\t\ttorch.nn.Linear(512, 256),\n",
    "\t\t\ttorch.nn.ReLU(),\n",
    "\t\t\ttorch.nn.Linear(256, 128),\n",
    "\t\t\ttorch.nn.ReLU(),\n",
    "\t\t\ttorch.nn.Linear(128, 64),\n",
    "\t\t\ttorch.nn.ReLU(),\n",
    "\t\t\ttorch.nn.Linear(64, 32),\n",
    "\t\t\ttorch.nn.ReLU(),\n",
    "\t\t\ttorch.nn.Linear(32, 1),\n",
    "\t\t\ttorch.nn.Softmax(-1),\n",
    "\t\t)\n",
    "\n",
    "\tdef forward(self, x):\n",
    "\t\tx = torch.flatten(x, start_dim=1)\n",
    "\t\treturn self.seq(x)"
   ]
  },
  {
   "cell_type": "code",
   "execution_count": 35,
   "metadata": {},
   "outputs": [],
   "source": [
    "class ConvAutoEncoder(torch.nn.Module):\n",
    "\tdef __init__(self):\n",
    "\t\tsuper().__init__()\n",
    "\n",
    "\t\tself.seq = torch.nn.Sequential(\n",
    "\t\t\ttorch.nn.Conv1d(3, 8,kernel_size=10, stride=5),\n",
    "\t\t\ttorch.nn.ReLU(),\n",
    "\t\t\ttorch.nn.Conv1d(8, 16,kernel_size=10, stride=5),\n",
    "\t\t\ttorch.nn.ReLU(),\n",
    "\t\t\ttorch.nn.Conv1d(16, 32,kernel_size=10, stride=5),\n",
    "\t\t\ttorch.nn.ReLU(),\n",
    "\t\t\ttorch.nn.Conv1d(32, 64,kernel_size=4, stride=1)\n",
    "\t\t)\n",
    "\t\t\n",
    "\n",
    "\tdef forward(self, x):\n",
    "\t\treturn self.seq(x)"
   ]
  },
  {
   "cell_type": "code",
   "execution_count": 36,
   "metadata": {},
   "outputs": [],
   "source": [
    "train_dataset = ClassifierAcceleratorDataset(TRAIN_TXT_PATH)\n",
    "train_dataloader = DataLoader(train_dataset,batch_size=2,shuffle=False)\n",
    "test_dataset = ClassifierAcceleratorDataset(TEST_TXT_PATH)\n",
    "test_dataloader = DataLoader(test_dataset,batch_size=4,shuffle=False)"
   ]
  },
  {
   "cell_type": "markdown",
   "metadata": {},
   "source": [
    "Linear Model Training"
   ]
  },
  {
   "cell_type": "code",
   "execution_count": null,
   "metadata": {},
   "outputs": [],
   "source": [
    "wandb.init(project=WANDB_PROJECT_NAME)"
   ]
  },
  {
   "cell_type": "code",
   "execution_count": 43,
   "metadata": {},
   "outputs": [],
   "source": [
    "sub_project_path = os.path.join(MODELS_PATH,'LinearModel')\n",
    "if not os.path.exists(sub_project_path):\n",
    "    os.makedirs(sub_project_path)\n",
    "models_path = os.path.join(sub_project_path,'models')\n",
    "if not os.path.exists(models_path):\n",
    "    os.makedirs(models_path)\n",
    "\n",
    "model = LinearClassifier()\n",
    "loss_func = torch.nn.BCELoss()\n",
    "optimizer = Adam(model.parameters(),lr=0.00001) #SGD(model.parameters())"
   ]
  },
  {
   "cell_type": "code",
   "execution_count": null,
   "metadata": {},
   "outputs": [],
   "source": [
    "best_val = -1\n",
    "best_val_idx = -1\n",
    "for epoch in range(EPOCHS):\n",
    "    #train\n",
    "    model.train()\n",
    "    epoch_loss = []\n",
    "    n_batches = len(train_dataloader)\n",
    "    for idx, data in enumerate(train_dataloader):\n",
    "        optimizer.zero_grad()\n",
    "        x, y = data\n",
    "        x = x.to(torch.float32).to(DEVICE)\n",
    "        y = y.to(torch.float32).to(DEVICE)\n",
    "\n",
    "        prediction = model(x)\n",
    "    \n",
    "        loss = loss_func(prediction,y)\n",
    "        epoch_loss.append(float(loss))\n",
    "\n",
    "        loss.backward()\n",
    "        optimizer.step()\n",
    "\n",
    "        print(\"\",end='\\rEpoch: {}/{} | Batch: {}/{} | loss: {}'.format(epoch,EPOCHS,idx,n_batches,np.mean(epoch_loss)))\n",
    "    epoch_final_loss = np.mean(epoch_loss)\n",
    "    del epoch_loss\n",
    "\n",
    "    #evaluating\n",
    "    model.eval()\n",
    "    optimizer.zero_grad()\n",
    "    validation_loss = []\n",
    "    for idx, data in enumerate(test_dataloader):\n",
    "        x,y = data\n",
    "        x = x.to(torch.float32).to(DEVICE)\n",
    "        y = y.to(torch.float32).to(DEVICE)\n",
    "\n",
    "        prediction = model(x)\n",
    "        \n",
    "        loss = loss_func(prediction,y)\n",
    "        validation_loss.append(float(loss))\n",
    "    validation_final_loss = np.mean(validation_loss)\n",
    "    del validation_loss\n",
    "    print('\\nEpoch: {}/{} | train_loss: {} | val_loss: {}\\n'.format(epoch,EPOCHS,epoch_final_loss,validation_final_loss))\n",
    "\n",
    "    save_model_at = os.path.join(models_path,'epoch_{}.pt'.format(epoch))\n",
    "    torch.save(model,save_model_at)\n",
    "\n",
    "    # wandb.log({\n",
    "    #     \"epoch_loss\":epoch_final_loss,\n",
    "    #     \"epoch_validation_loss\":validation_final_loss\n",
    "    # },sync=True)\n",
    "\n",
    "    if best_val_idx==-1 or best_val>validation_final_loss:\n",
    "        best_val=validation_final_loss\n",
    "        best_val_idx=epoch\n",
    "\n",
    "best_path = os.path.join(models_path,'epoch_{}.pt'.format(best_val_idx))\n",
    "new_best_path = os.path.join(models_path,'best.pt')\n",
    "if os.path.exists(new_best_path):\n",
    "    os.remove(new_best_path)\n",
    "os.rename(best_path,new_best_path)"
   ]
  },
  {
   "cell_type": "markdown",
   "metadata": {},
   "source": [
    "Conv Model Training"
   ]
  },
  {
   "cell_type": "code",
   "execution_count": null,
   "metadata": {},
   "outputs": [],
   "source": [
    " data = torch.permute(data,(0,2,1)).to(torch.float32).to(DEVICE)"
   ]
  }
 ],
 "metadata": {
  "kernelspec": {
   "display_name": "Python 3.8.10 64-bit",
   "language": "python",
   "name": "python3"
  },
  "language_info": {
   "codemirror_mode": {
    "name": "ipython",
    "version": 3
   },
   "file_extension": ".py",
   "mimetype": "text/x-python",
   "name": "python",
   "nbconvert_exporter": "python",
   "pygments_lexer": "ipython3",
   "version": "3.8.10"
  },
  "orig_nbformat": 4,
  "vscode": {
   "interpreter": {
    "hash": "7dac217b36b31e0009f5a4cd7642172bea26f3d46fec2031bdcc95400234d29f"
   }
  }
 },
 "nbformat": 4,
 "nbformat_minor": 2
}
